{
 "cells": [
  {
   "cell_type": "code",
   "execution_count": 10,
   "id": "308ed428-79bb-455a-bf49-05817614cd47",
   "metadata": {},
   "outputs": [],
   "source": [
    "import os\n",
    "import sys\n",
    "import pandas as pd\n",
    "import numpy as np"
   ]
  },
  {
   "cell_type": "markdown",
   "id": "5ff9824f",
   "metadata": {},
   "source": [
    "- [*sys*: System-specific parameters and functions](https://docs.python.org/3/library/sys.html)\n",
    "```\n",
    "notebook_path = !pwd\n",
    "prj_path = os.path.abspath(os.path.join(notebook_path[0], '../data/', ''))\n",
    "sys.path.append(prj_path)\n",
    "print('Added: %s' % prj_path)\n",
    "```\n",
    "> Added: /Users/jalfredomb/Documents/repositorios/DSCourse_FMATProfessors/data\n",
    "\n",
    "- [*os*: Operative System](https://docs.python.org/es/3.10/library/os.html)\n",
    "\n",
    "```\n",
    "os.listdir('../data/source')\n",
    "```\n",
    "> ['Sleep_health_and_lifestyle_dataset.csv']\n",
    "\n",
    "- [*pandas*](https://pandas.pydata.org/docs/user_guide/10min.html#min)\n",
    "    - Series: One dimension arrays\n",
    "    - DataFrames: Two dimension data structure\n",
    "- [*numpy*: provides a multidimensional array object](https://numpy.org/devdocs/user/quickstart.html)\n",
    "- [*matplotlib*: creating static, animated, and interactive visualizations](https://matplotlib.org/stable/tutorials/index.html)"
   ]
  },
  {
   "cell_type": "code",
   "execution_count": 14,
   "id": "fe3c457f-ed9c-4ab6-af31-28313dc7aaee",
   "metadata": {},
   "outputs": [
    {
     "data": {
      "text/plain": [
       "['Sleep_health_and_lifestyle_dataset.csv']"
      ]
     },
     "execution_count": 14,
     "metadata": {},
     "output_type": "execute_result"
    }
   ],
   "source": [
    "list_files = os.listdir('../data/source')"
   ]
  },
  {
   "cell_type": "code",
   "execution_count": null,
   "id": "8c7b8e69",
   "metadata": {},
   "outputs": [],
   "source": []
  }
 ],
 "metadata": {
  "kernelspec": {
   "display_name": "Python 3 (ipykernel)",
   "language": "python",
   "name": "python3"
  },
  "language_info": {
   "codemirror_mode": {
    "name": "ipython",
    "version": 3
   },
   "file_extension": ".py",
   "mimetype": "text/x-python",
   "name": "python",
   "nbconvert_exporter": "python",
   "pygments_lexer": "ipython3",
   "version": "3.7.0"
  }
 },
 "nbformat": 4,
 "nbformat_minor": 5
}
