{
 "cells": [
  {
   "cell_type": "markdown",
   "id": "d38993c0",
   "metadata": {},
   "source": [
    "# Case of Study:\n",
    "\n",
    "## Question:\n",
    "\n",
    " ### With a wide range of variables related to sleep and daily habits, can we help to understand and identify some sleep disorders such as **Sleep Apnea**?"
   ]
  },
  {
   "cell_type": "markdown",
   "id": "a894958e",
   "metadata": {},
   "source": [
    "## Source:\n",
    "- **10 *csv* files with all the features** to analyse of the population to study at `../data/raw/`\n",
    "- A *csv* file with the the **Sleep Disorder column** which will be used to build the **target to predict**"
   ]
  },
  {
   "cell_type": "markdown",
   "id": "707248da",
   "metadata": {},
   "source": [
    "## How can we do this?"
   ]
  },
  {
   "cell_type": "markdown",
   "id": "4a4e027e",
   "metadata": {},
   "source": [
    "==============================\n",
    "==============================\n"
   ]
  },
  {
   "cell_type": "code",
   "execution_count": 1,
   "id": "308ed428-79bb-455a-bf49-05817614cd47",
   "metadata": {},
   "outputs": [],
   "source": [
    "import os\n",
    "import sys\n",
    "import re\n",
    "import pandas as pd\n",
    "import numpy as np"
   ]
  },
  {
   "cell_type": "markdown",
   "id": "5ff9824f",
   "metadata": {},
   "source": [
    "- [*sys*: System-specific parameters and functions](https://docs.python.org/3/library/sys.html)\n",
    "```\n",
    "notebook_path = !pwd\n",
    "prj_path = os.path.abspath(os.path.join(notebook_path[0], '../data/', ''))\n",
    "sys.path.append(prj_path)\n",
    "print('Added: %s' % prj_path)\n",
    "```\n",
    "> Added: /Users/jalfredomb/Documents/repositorios/DSCourse_FMATProfessors/data\n",
    "\n",
    "- [*os*: Operative System](https://docs.python.org/es/3.10/library/os.html)\n",
    "\n",
    "```\n",
    "os.listdir('../data/source')\n",
    "```\n",
    "> ['Sleep_health_and_lifestyle_dataset.csv']\n",
    "\n",
    "- [*re*: Regular expression operations](https://docs.python.org/3/library/re.html)\n",
    "\n",
    "```\n",
    "re.sub('Hola','Holiiiii','Hola, qué tal?!')\n",
    "```\n",
    "> Holiiiii, qué tal?!\n",
    "\n",
    "- [*pandas*](https://pandas.pydata.org/docs/user_guide/10min.html#min)\n",
    "    - Series: One dimension arrays\n",
    "    - DataFrames: Two dimension data structure\n",
    "- [*numpy*: provides a multidimensional array object](https://numpy.org/devdocs/user/quickstart.html)\n",
    "- [*matplotlib*: creating static, animated, and interactive visualizations](https://matplotlib.org/stable/tutorials/index.html)"
   ]
  },
  {
   "cell_type": "code",
   "execution_count": 2,
   "id": "fe3c457f-ed9c-4ab6-af31-28313dc7aaee",
   "metadata": {},
   "outputs": [
    {
     "data": {
      "text/plain": [
       "['Sleep_health_and_lifestyle_dataset_0.csv',\n",
       " 'Sleep_health_and_lifestyle_dataset_1.csv',\n",
       " 'Sleep_health_and_lifestyle_dataset_2.csv',\n",
       " 'Sleep_health_and_lifestyle_dataset_3.csv',\n",
       " 'Sleep_health_and_lifestyle_dataset_4.csv',\n",
       " 'Sleep_health_and_lifestyle_dataset_5.csv',\n",
       " 'Sleep_health_and_lifestyle_dataset_6.csv',\n",
       " 'Sleep_health_and_lifestyle_dataset_7.csv',\n",
       " 'Sleep_health_and_lifestyle_dataset_8.csv',\n",
       " 'Sleep_health_and_lifestyle_dataset_9.csv',\n",
       " 'Target_Sleep_Disorder.csv']"
      ]
     },
     "execution_count": 2,
     "metadata": {},
     "output_type": "execute_result"
    }
   ],
   "source": [
    "_PATH_TO_DATA_RAW = '../data/raw/'\n",
    "list_all_files = sorted(os.listdir(_PATH_TO_DATA_RAW))\n",
    "list_all_files"
   ]
  },
  {
   "cell_type": "markdown",
   "id": "76a1094e",
   "metadata": {},
   "source": [
    "# List Comprehension"
   ]
  },
  {
   "cell_type": "code",
   "execution_count": 3,
   "id": "87e4cd8f",
   "metadata": {},
   "outputs": [
    {
     "data": {
      "text/plain": [
       "['Sleep_health_and_lifestyle_dataset_0.csv',\n",
       " 'Sleep_health_and_lifestyle_dataset_1.csv',\n",
       " 'Sleep_health_and_lifestyle_dataset_2.csv',\n",
       " 'Sleep_health_and_lifestyle_dataset_3.csv',\n",
       " 'Sleep_health_and_lifestyle_dataset_4.csv',\n",
       " 'Sleep_health_and_lifestyle_dataset_5.csv',\n",
       " 'Sleep_health_and_lifestyle_dataset_6.csv',\n",
       " 'Sleep_health_and_lifestyle_dataset_7.csv',\n",
       " 'Sleep_health_and_lifestyle_dataset_8.csv',\n",
       " 'Sleep_health_and_lifestyle_dataset_9.csv',\n",
       " 'Target_Sleep_Disorder.csv']"
      ]
     },
     "execution_count": 3,
     "metadata": {},
     "output_type": "execute_result"
    }
   ],
   "source": [
    "[x for x in list_all_files]"
   ]
  },
  {
   "cell_type": "code",
   "execution_count": 4,
   "id": "7ec4cc97",
   "metadata": {},
   "outputs": [
    {
     "data": {
      "text/plain": [
       "['sleep_health_and_lifestyle_dataset_0.csv',\n",
       " 'sleep_health_and_lifestyle_dataset_1.csv',\n",
       " 'sleep_health_and_lifestyle_dataset_2.csv',\n",
       " 'sleep_health_and_lifestyle_dataset_3.csv',\n",
       " 'sleep_health_and_lifestyle_dataset_4.csv',\n",
       " 'sleep_health_and_lifestyle_dataset_5.csv',\n",
       " 'sleep_health_and_lifestyle_dataset_6.csv',\n",
       " 'sleep_health_and_lifestyle_dataset_7.csv',\n",
       " 'sleep_health_and_lifestyle_dataset_8.csv',\n",
       " 'sleep_health_and_lifestyle_dataset_9.csv',\n",
       " 'target_sleep_disorder.csv']"
      ]
     },
     "execution_count": 4,
     "metadata": {},
     "output_type": "execute_result"
    }
   ],
   "source": [
    "[x.lower() for x in list_all_files]"
   ]
  },
  {
   "cell_type": "code",
   "execution_count": 5,
   "id": "d3570e16",
   "metadata": {},
   "outputs": [
    {
     "data": {
      "text/plain": [
       "[['Sleep_health_and_lifestyle_dataset_0', ''],\n",
       " ['Sleep_health_and_lifestyle_dataset_1', ''],\n",
       " ['Sleep_health_and_lifestyle_dataset_2', ''],\n",
       " ['Sleep_health_and_lifestyle_dataset_3', ''],\n",
       " ['Sleep_health_and_lifestyle_dataset_4', ''],\n",
       " ['Sleep_health_and_lifestyle_dataset_5', ''],\n",
       " ['Sleep_health_and_lifestyle_dataset_6', ''],\n",
       " ['Sleep_health_and_lifestyle_dataset_7', ''],\n",
       " ['Sleep_health_and_lifestyle_dataset_8', ''],\n",
       " ['Sleep_health_and_lifestyle_dataset_9', ''],\n",
       " ['Target_Sleep_Disorder', '']]"
      ]
     },
     "execution_count": 5,
     "metadata": {},
     "output_type": "execute_result"
    }
   ],
   "source": [
    "[x.split('.csv') for x in list_all_files]"
   ]
  },
  {
   "cell_type": "code",
   "execution_count": 6,
   "id": "0b428e6d",
   "metadata": {},
   "outputs": [
    {
     "data": {
      "text/plain": [
       "[['Sleep', 'health', 'and', 'lifestyle', 'dataset', '0'],\n",
       " ['Sleep', 'health', 'and', 'lifestyle', 'dataset', '1'],\n",
       " ['Sleep', 'health', 'and', 'lifestyle', 'dataset', '2'],\n",
       " ['Sleep', 'health', 'and', 'lifestyle', 'dataset', '3'],\n",
       " ['Sleep', 'health', 'and', 'lifestyle', 'dataset', '4'],\n",
       " ['Sleep', 'health', 'and', 'lifestyle', 'dataset', '5'],\n",
       " ['Sleep', 'health', 'and', 'lifestyle', 'dataset', '6'],\n",
       " ['Sleep', 'health', 'and', 'lifestyle', 'dataset', '7'],\n",
       " ['Sleep', 'health', 'and', 'lifestyle', 'dataset', '8'],\n",
       " ['Sleep', 'health', 'and', 'lifestyle', 'dataset', '9'],\n",
       " ['Target', 'Sleep', 'Disorder']]"
      ]
     },
     "execution_count": 6,
     "metadata": {},
     "output_type": "execute_result"
    }
   ],
   "source": [
    "[x.split('.csv')[0].split('_') for x in list_all_files]"
   ]
  },
  {
   "cell_type": "code",
   "execution_count": 7,
   "id": "56f8647e",
   "metadata": {},
   "outputs": [
    {
     "data": {
      "text/plain": [
       "['Sleep health and lifestyle dataset 0',\n",
       " 'Sleep health and lifestyle dataset 1',\n",
       " 'Sleep health and lifestyle dataset 2',\n",
       " 'Sleep health and lifestyle dataset 3',\n",
       " 'Sleep health and lifestyle dataset 4',\n",
       " 'Sleep health and lifestyle dataset 5',\n",
       " 'Sleep health and lifestyle dataset 6',\n",
       " 'Sleep health and lifestyle dataset 7',\n",
       " 'Sleep health and lifestyle dataset 8',\n",
       " 'Sleep health and lifestyle dataset 9',\n",
       " 'Target Sleep Disorder']"
      ]
     },
     "execution_count": 7,
     "metadata": {},
     "output_type": "execute_result"
    }
   ],
   "source": [
    "[' '.join(x.split('.csv')[0].split('_')) for x in list_all_files]"
   ]
  },
  {
   "cell_type": "code",
   "execution_count": 8,
   "id": "d7144bf8",
   "metadata": {},
   "outputs": [
    {
     "data": {
      "text/plain": [
       "['Sleep Health And Lifestyle Dataset 0',\n",
       " 'Sleep Health And Lifestyle Dataset 1',\n",
       " 'Sleep Health And Lifestyle Dataset 2',\n",
       " 'Sleep Health And Lifestyle Dataset 3',\n",
       " 'Sleep Health And Lifestyle Dataset 4',\n",
       " 'Sleep Health And Lifestyle Dataset 5',\n",
       " 'Sleep Health And Lifestyle Dataset 6',\n",
       " 'Sleep Health And Lifestyle Dataset 7',\n",
       " 'Sleep Health And Lifestyle Dataset 8',\n",
       " 'Sleep Health And Lifestyle Dataset 9',\n",
       " 'Target Sleep Disorder']"
      ]
     },
     "execution_count": 8,
     "metadata": {},
     "output_type": "execute_result"
    }
   ],
   "source": [
    "[' '.join(x.split('.csv')[0].split('_')).title() for x in list_all_files]"
   ]
  },
  {
   "cell_type": "markdown",
   "id": "73895746",
   "metadata": {},
   "source": [
    "- Esto nos puede servir, por ejemplo, para títulos de gráficas... en un futuro..."
   ]
  },
  {
   "cell_type": "code",
   "execution_count": 9,
   "id": "a3f9d459",
   "metadata": {},
   "outputs": [
    {
     "data": {
      "text/plain": [
       "[True, True, True, True, True, True, True, True, True, True, False]"
      ]
     },
     "execution_count": 9,
     "metadata": {},
     "output_type": "execute_result"
    }
   ],
   "source": [
    "[bool(re.search(r'\\d', x)) for x in list_all_files]"
   ]
  },
  {
   "cell_type": "code",
   "execution_count": 10,
   "id": "74935f77",
   "metadata": {},
   "outputs": [
    {
     "data": {
      "text/plain": [
       "['Sleep_health_and_lifestyle_dataset_0.csv',\n",
       " 'Sleep_health_and_lifestyle_dataset_1.csv',\n",
       " 'Sleep_health_and_lifestyle_dataset_2.csv',\n",
       " 'Sleep_health_and_lifestyle_dataset_3.csv',\n",
       " 'Sleep_health_and_lifestyle_dataset_4.csv',\n",
       " 'Sleep_health_and_lifestyle_dataset_5.csv',\n",
       " 'Sleep_health_and_lifestyle_dataset_6.csv',\n",
       " 'Sleep_health_and_lifestyle_dataset_7.csv',\n",
       " 'Sleep_health_and_lifestyle_dataset_8.csv',\n",
       " 'Sleep_health_and_lifestyle_dataset_9.csv']"
      ]
     },
     "execution_count": 10,
     "metadata": {},
     "output_type": "execute_result"
    }
   ],
   "source": [
    "[x for x in list_all_files if bool(re.search(r'\\d', x))]"
   ]
  },
  {
   "cell_type": "code",
   "execution_count": 11,
   "id": "9a7f8c52",
   "metadata": {},
   "outputs": [
    {
     "data": {
      "text/plain": [
       "['Sleep_health_and_lifestyle_dataset_0.csv',\n",
       " 'Sleep_health_and_lifestyle_dataset_1.csv',\n",
       " 'Sleep_health_and_lifestyle_dataset_2.csv',\n",
       " 'Sleep_health_and_lifestyle_dataset_3.csv',\n",
       " 'Sleep_health_and_lifestyle_dataset_4.csv',\n",
       " 'Sleep_health_and_lifestyle_dataset_5.csv',\n",
       " 'Sleep_health_and_lifestyle_dataset_6.csv',\n",
       " 'Sleep_health_and_lifestyle_dataset_7.csv',\n",
       " 'Sleep_health_and_lifestyle_dataset_8.csv',\n",
       " 'Sleep_health_and_lifestyle_dataset_9.csv']"
      ]
     },
     "execution_count": 11,
     "metadata": {},
     "output_type": "execute_result"
    }
   ],
   "source": [
    "[x for x in list_all_files if x.startswith('Sleep_health_and_lifestyle_dataset_') ]"
   ]
  },
  {
   "cell_type": "code",
   "execution_count": 12,
   "id": "3ac3e07e",
   "metadata": {},
   "outputs": [
    {
     "data": {
      "text/plain": [
       "['Sleep_health_and_lifestyle_dataset_0.csv',\n",
       " 'Sleep_health_and_lifestyle_dataset_1.csv',\n",
       " 'Sleep_health_and_lifestyle_dataset_2.csv',\n",
       " 'Sleep_health_and_lifestyle_dataset_3.csv',\n",
       " 'Sleep_health_and_lifestyle_dataset_4.csv',\n",
       " 'Sleep_health_and_lifestyle_dataset_5.csv',\n",
       " 'Sleep_health_and_lifestyle_dataset_6.csv',\n",
       " 'Sleep_health_and_lifestyle_dataset_7.csv',\n",
       " 'Sleep_health_and_lifestyle_dataset_8.csv',\n",
       " 'Sleep_health_and_lifestyle_dataset_9.csv']"
      ]
     },
     "execution_count": 12,
     "metadata": {},
     "output_type": "execute_result"
    }
   ],
   "source": [
    "[x for x in list_all_files if x.split('.csv')[0][-1].isdigit()]"
   ]
  },
  {
   "cell_type": "code",
   "execution_count": 13,
   "id": "0bb59cad",
   "metadata": {},
   "outputs": [
    {
     "ename": "ValueError",
     "evalue": "invalid literal for int() with base 10: 'r'",
     "output_type": "error",
     "traceback": [
      "\u001b[1;31m---------------------------------------------------------------------------\u001b[0m",
      "\u001b[1;31mValueError\u001b[0m                                Traceback (most recent call last)",
      "\u001b[1;32m~\\AppData\\Local\\Temp\\ipykernel_25472\\313918704.py\u001b[0m in \u001b[0;36m<module>\u001b[1;34m\u001b[0m\n\u001b[1;32m----> 1\u001b[1;33m [x for x in list_all_files if (\n\u001b[0m\u001b[0;32m      2\u001b[0m     \u001b[1;33m(\u001b[0m\u001b[0mx\u001b[0m\u001b[1;33m.\u001b[0m\u001b[0msplit\u001b[0m\u001b[1;33m(\u001b[0m\u001b[1;34m'.csv'\u001b[0m\u001b[1;33m)\u001b[0m\u001b[1;33m[\u001b[0m\u001b[1;36m0\u001b[0m\u001b[1;33m]\u001b[0m\u001b[1;33m[\u001b[0m\u001b[1;33m-\u001b[0m\u001b[1;36m1\u001b[0m\u001b[1;33m]\u001b[0m\u001b[1;33m.\u001b[0m\u001b[0misdigit\u001b[0m\u001b[1;33m(\u001b[0m\u001b[1;33m)\u001b[0m\u001b[1;33m)\u001b[0m \u001b[1;33m&\u001b[0m \u001b[1;33m(\u001b[0m\u001b[0mint\u001b[0m\u001b[1;33m(\u001b[0m\u001b[0mx\u001b[0m\u001b[1;33m.\u001b[0m\u001b[0msplit\u001b[0m\u001b[1;33m(\u001b[0m\u001b[1;34m'.csv'\u001b[0m\u001b[1;33m)\u001b[0m\u001b[1;33m[\u001b[0m\u001b[1;36m0\u001b[0m\u001b[1;33m]\u001b[0m\u001b[1;33m[\u001b[0m\u001b[1;33m-\u001b[0m\u001b[1;36m1\u001b[0m\u001b[1;33m]\u001b[0m\u001b[1;33m)\u001b[0m\u001b[1;33m<\u001b[0m\u001b[1;36m5\u001b[0m\u001b[1;33m)\u001b[0m\u001b[1;33m\u001b[0m\u001b[0m\n\u001b[0;32m      3\u001b[0m )]\n",
      "\u001b[1;32m~\\AppData\\Local\\Temp\\ipykernel_25472\\313918704.py\u001b[0m in \u001b[0;36m<listcomp>\u001b[1;34m(.0)\u001b[0m\n\u001b[0;32m      1\u001b[0m [x for x in list_all_files if (\n\u001b[1;32m----> 2\u001b[1;33m     \u001b[1;33m(\u001b[0m\u001b[0mx\u001b[0m\u001b[1;33m.\u001b[0m\u001b[0msplit\u001b[0m\u001b[1;33m(\u001b[0m\u001b[1;34m'.csv'\u001b[0m\u001b[1;33m)\u001b[0m\u001b[1;33m[\u001b[0m\u001b[1;36m0\u001b[0m\u001b[1;33m]\u001b[0m\u001b[1;33m[\u001b[0m\u001b[1;33m-\u001b[0m\u001b[1;36m1\u001b[0m\u001b[1;33m]\u001b[0m\u001b[1;33m.\u001b[0m\u001b[0misdigit\u001b[0m\u001b[1;33m(\u001b[0m\u001b[1;33m)\u001b[0m\u001b[1;33m)\u001b[0m \u001b[1;33m&\u001b[0m \u001b[1;33m(\u001b[0m\u001b[0mint\u001b[0m\u001b[1;33m(\u001b[0m\u001b[0mx\u001b[0m\u001b[1;33m.\u001b[0m\u001b[0msplit\u001b[0m\u001b[1;33m(\u001b[0m\u001b[1;34m'.csv'\u001b[0m\u001b[1;33m)\u001b[0m\u001b[1;33m[\u001b[0m\u001b[1;36m0\u001b[0m\u001b[1;33m]\u001b[0m\u001b[1;33m[\u001b[0m\u001b[1;33m-\u001b[0m\u001b[1;36m1\u001b[0m\u001b[1;33m]\u001b[0m\u001b[1;33m)\u001b[0m\u001b[1;33m<\u001b[0m\u001b[1;36m5\u001b[0m\u001b[1;33m)\u001b[0m\u001b[1;33m\u001b[0m\u001b[0m\n\u001b[0m\u001b[0;32m      3\u001b[0m )]\n",
      "\u001b[1;31mValueError\u001b[0m: invalid literal for int() with base 10: 'r'"
     ]
    }
   ],
   "source": [
    "[x for x in list_all_files if (\n",
    "    (x.split('.csv')[0][-1].isdigit()) & (int(x.split('.csv')[0][-1])<5)\n",
    ")]"
   ]
  },
  {
   "cell_type": "code",
   "execution_count": 14,
   "id": "905be120",
   "metadata": {},
   "outputs": [
    {
     "data": {
      "text/plain": [
       "['Sleep_health_and_lifestyle_dataset_0.csv',\n",
       " 'Sleep_health_and_lifestyle_dataset_1.csv',\n",
       " 'Sleep_health_and_lifestyle_dataset_2.csv',\n",
       " 'Sleep_health_and_lifestyle_dataset_3.csv',\n",
       " 'Sleep_health_and_lifestyle_dataset_4.csv']"
      ]
     },
     "execution_count": 14,
     "metadata": {},
     "output_type": "execute_result"
    }
   ],
   "source": [
    "[x for x in list_all_files if (\n",
    "    (x.split('.csv')[0][-1].isdigit()) and (int(x.split('.csv')[0][-1])<5)\n",
    ")]"
   ]
  },
  {
   "cell_type": "code",
   "execution_count": null,
   "id": "924a5ecb",
   "metadata": {},
   "outputs": [],
   "source": [
    "[x[0] for x in list_all_files]"
   ]
  },
  {
   "cell_type": "code",
   "execution_count": null,
   "id": "046d9661",
   "metadata": {},
   "outputs": [],
   "source": [
    "[x[:5] for x in list_all_files]"
   ]
  },
  {
   "cell_type": "code",
   "execution_count": null,
   "id": "bae67636",
   "metadata": {},
   "outputs": [],
   "source": [
    "[x[5:] for x in list_all_files]"
   ]
  },
  {
   "cell_type": "code",
   "execution_count": null,
   "id": "f07ddbc8",
   "metadata": {},
   "outputs": [],
   "source": [
    "[x[-1] for x in list_all_files]"
   ]
  },
  {
   "cell_type": "code",
   "execution_count": null,
   "id": "4abefea1",
   "metadata": {},
   "outputs": [],
   "source": [
    "[x[-4:] for x in list_all_files]"
   ]
  },
  {
   "cell_type": "code",
   "execution_count": null,
   "id": "4948a26f",
   "metadata": {},
   "outputs": [],
   "source": [
    "[x[:-4] for x in list_all_files]"
   ]
  },
  {
   "cell_type": "code",
   "execution_count": null,
   "id": "a8ba46d5",
   "metadata": {},
   "outputs": [],
   "source": [
    "[x[:-4][-1] for x in list_all_files]"
   ]
  },
  {
   "cell_type": "code",
   "execution_count": null,
   "id": "c0f16d1f",
   "metadata": {},
   "outputs": [],
   "source": [
    "[x for x in list_all_files if x[:-4][-1].isdigit()]"
   ]
  },
  {
   "cell_type": "code",
   "execution_count": null,
   "id": "890ac914",
   "metadata": {},
   "outputs": [],
   "source": [
    "[x for x in list_all_files if not x[:-4][-1].isdigit()]"
   ]
  },
  {
   "cell_type": "markdown",
   "id": "c3b9ed5b",
   "metadata": {},
   "source": [
    "- O, simplemente, poner todo al revés"
   ]
  },
  {
   "cell_type": "code",
   "execution_count": null,
   "id": "9c562ed7",
   "metadata": {},
   "outputs": [],
   "source": [
    "[x[::-1] for x in list_all_files]"
   ]
  },
  {
   "cell_type": "markdown",
   "id": "76f24b54",
   "metadata": {},
   "source": [
    "====================\n",
    "====================\n",
    "\n",
    "\n",
    "# Construyendo la Base a analizar\n",
    "\n",
    "- **pandas** *DataFrames*"
   ]
  },
  {
   "cell_type": "markdown",
   "id": "3720d21d",
   "metadata": {},
   "source": [
    "\n",
    "## Ciclos"
   ]
  },
  {
   "cell_type": "markdown",
   "id": "d92617cd",
   "metadata": {},
   "source": [
    "### For"
   ]
  },
  {
   "cell_type": "code",
   "execution_count": null,
   "id": "aea255bf",
   "metadata": {},
   "outputs": [],
   "source": [
    "data_complete = pd.DataFrame()\n",
    "for filename in list_all_files:\n",
    "    print('filas en data_complete: %d'%len(data_complete))\n",
    "    print(filename)\n",
    "    datatmp = pd.read_csv(_PATH_TO_DATA_RAW+filename)\n",
    "    data_complete = data_complete.append(datatmp,ignore_index=True)\n",
    "data_complete"
   ]
  },
  {
   "cell_type": "markdown",
   "id": "0f661eac",
   "metadata": {},
   "source": [
    "- No debíamos leer todas las tablas\n",
    "- Únicamente las que empezaban con `Sleep_health_and_lifestyle_dataset_`... \n",
    "> list comprehension"
   ]
  },
  {
   "cell_type": "code",
   "execution_count": null,
   "id": "ba37452e",
   "metadata": {},
   "outputs": [],
   "source": [
    "data_complete = pd.DataFrame()\n",
    "for filename in [x for x in list_all_files if x.startswith('Sleep_health_and_lifestyle_dataset_')]: #[x for x in list_all_files if x[:-4][-1].isdigit()]\n",
    "    print('filas en data_complete: %d'%len(data_complete))\n",
    "    print(filename)\n",
    "    datatmp = pd.read_csv(_PATH_TO_DATA_RAW+filename)\n",
    "    data_complete = data_complete.append(datatmp,ignore_index=True)\n",
    "data_complete"
   ]
  },
  {
   "cell_type": "markdown",
   "id": "96b924fc",
   "metadata": {},
   "source": [
    "- Buena práctica, conocer los nombres de nuestras columnas y una \"descripción\" rápida de qué trae cada una\n",
    "     - `.describe()`"
   ]
  },
  {
   "cell_type": "code",
   "execution_count": null,
   "id": "88089fab",
   "metadata": {},
   "outputs": [],
   "source": [
    "data_complete.describe()"
   ]
  },
  {
   "cell_type": "markdown",
   "id": "ab2df45a",
   "metadata": {},
   "source": [
    "- Por convenciencia para utilizar \"más rápido\" algunos métodos de *pandas*, eliminemos los espacios en blanco de los nombres de las columnas\n",
    "    - `.columns`\n",
    "    - `re.sub`\n",
    "    - *list comprehension*"
   ]
  },
  {
   "cell_type": "code",
   "execution_count": null,
   "id": "ed4dead0",
   "metadata": {},
   "outputs": [],
   "source": [
    "data_complete.columns"
   ]
  },
  {
   "cell_type": "code",
   "execution_count": null,
   "id": "1226e1ed",
   "metadata": {},
   "outputs": [],
   "source": [
    "data_complete.columns = [re.sub(' ','',x) for x in data_complete.columns]\n",
    "data_complete.columns"
   ]
  },
  {
   "cell_type": "code",
   "execution_count": null,
   "id": "cd81c48d",
   "metadata": {},
   "outputs": [],
   "source": [
    "data_complete"
   ]
  },
  {
   "cell_type": "markdown",
   "id": "94ef7646",
   "metadata": {},
   "source": [
    "- ¿Tenemos duplicados?... el ID pareciera que llega hasta el 374 pero tenemos 419 filas...\n",
    "    - `len()`\n",
    "    - `.nunique()`\n",
    "    - `.value_counts()`"
   ]
  },
  {
   "cell_type": "code",
   "execution_count": null,
   "id": "9492036f",
   "metadata": {},
   "outputs": [],
   "source": [
    "'filas en la tabla:    %d'%len(data_complete)"
   ]
  },
  {
   "cell_type": "code",
   "execution_count": null,
   "id": "486d2476",
   "metadata": {},
   "outputs": [],
   "source": [
    "'número de valores únicos en columna PersonID:    %d'%data_complete.PersonID.nunique()"
   ]
  },
  {
   "cell_type": "markdown",
   "id": "c9404173",
   "metadata": {},
   "source": [
    "- `value_counts()`\n",
    "- `drop_duplicates()`"
   ]
  },
  {
   "cell_type": "code",
   "execution_count": null,
   "id": "32296b97",
   "metadata": {},
   "outputs": [],
   "source": [
    "data_complete.PersonID.value_counts()"
   ]
  },
  {
   "cell_type": "code",
   "execution_count": null,
   "id": "111fa494",
   "metadata": {
    "scrolled": true
   },
   "outputs": [],
   "source": [
    "#filtrando los ID's que aparecen más de una vez\n",
    "data_complete.PersonID.value_counts()[\n",
    "    (data_complete.PersonID.value_counts()>1).index()\n",
    "]"
   ]
  },
  {
   "cell_type": "markdown",
   "id": "345da18e",
   "metadata": {},
   "source": [
    "- Aplicando ese filtro a la tabla completa para poder ver todos los campos que tienen esos casos"
   ]
  },
  {
   "cell_type": "code",
   "execution_count": null,
   "id": "6f4fe9b1",
   "metadata": {},
   "outputs": [],
   "source": [
    "data_complete[\n",
    "    data_complete.PersonID.isin(\n",
    "        (\n",
    "            data_complete.PersonID.value_counts()[\n",
    "                data_complete.PersonID.value_counts()>1\n",
    "            ]\n",
    "        ).index.values\n",
    "    )\n",
    "].sort_values('PersonID')"
   ]
  },
  {
   "cell_type": "code",
   "execution_count": null,
   "id": "2b0b7901",
   "metadata": {},
   "outputs": [],
   "source": [
    "data_no_duplicates = data_complete.drop_duplicates(subset='PersonID').reset_index(drop=True)\n",
    "data_no_duplicates"
   ]
  },
  {
   "cell_type": "code",
   "execution_count": null,
   "id": "07d95a50",
   "metadata": {},
   "outputs": [],
   "source": [
    "print('filas en la tabla:    %d'%len(data_no_duplicates))\n",
    "\n",
    "print('número de valores únicos en columna PersonID:    %d'%data_no_duplicates.PersonID.nunique())"
   ]
  },
  {
   "cell_type": "code",
   "execution_count": null,
   "id": "1867078e",
   "metadata": {},
   "outputs": [],
   "source": [
    "from ydata_profiling import ProfileReport\n",
    "\n",
    "profile = ProfileReport(data_no_duplicates, title=\"Profiling Report\")\n",
    "profile.to_notebook_iframe()"
   ]
  },
  {
   "cell_type": "markdown",
   "id": "c4236cf1",
   "metadata": {},
   "source": [
    "- Pero aún nos falta una variable/columna Target"
   ]
  },
  {
   "cell_type": "code",
   "execution_count": null,
   "id": "55808f37",
   "metadata": {},
   "outputs": [],
   "source": [
    "list_all_files[::-1]"
   ]
  },
  {
   "cell_type": "markdown",
   "id": "0a86c2aa",
   "metadata": {},
   "source": [
    "# Joins"
   ]
  },
  {
   "cell_type": "code",
   "execution_count": null,
   "id": "47f62333",
   "metadata": {},
   "outputs": [],
   "source": [
    "filename = list_all_files[::-1][0]\n",
    "data_target = pd.read_csv(_PATH_TO_DATA_RAW+filename)\n",
    "data_target"
   ]
  },
  {
   "cell_type": "code",
   "execution_count": null,
   "id": "ab54503d",
   "metadata": {},
   "outputs": [],
   "source": [
    "data_target.columns = [re.sub(' ','',x) for x in data_target.columns]\n",
    "data_target"
   ]
  },
  {
   "cell_type": "code",
   "execution_count": null,
   "id": "4b12884f",
   "metadata": {},
   "outputs": [],
   "source": [
    "data_with_target = data_no_duplicates.join(\n",
    "    data_target.set_index('PersonID'), on='PersonID',how='inner'\n",
    ")\n",
    "data_with_target"
   ]
  },
  {
   "cell_type": "code",
   "execution_count": null,
   "id": "a849bdc8",
   "metadata": {},
   "outputs": [],
   "source": [
    "profile02 = ProfileReport(data_with_target, title=\"Profiling Report w Target\")\n",
    "profile02.to_notebook_iframe()\n"
   ]
  },
  {
   "cell_type": "markdown",
   "id": "a48c09d5",
   "metadata": {},
   "source": [
    "## Group by"
   ]
  },
  {
   "cell_type": "code",
   "execution_count": null,
   "id": "081ccc40",
   "metadata": {},
   "outputs": [],
   "source": [
    "data_with_target.groupby('SleepDisorder').agg({\n",
    "    'Age':['mean'],\n",
    "    'SleepDuration':['mean'],\n",
    "    'QualityofSleep':['mean'],\n",
    "    'PhysicalActivityLevel':['mean'],\n",
    "    'StressLevel':['mean'],\n",
    "    'HeartRate':['mean'],\n",
    "    'DailySteps':['mean']\n",
    "})"
   ]
  },
  {
   "cell_type": "code",
   "execution_count": null,
   "id": "598095ee",
   "metadata": {},
   "outputs": [],
   "source": [
    "data_with_target[\n",
    "    [\n",
    "        'SleepDisorder','Age','SleepDuration','QualityofSleep','PhysicalActivityLevel',\n",
    "        'StressLevel','HeartRate','DailySteps'\n",
    "    ]\n",
    "].groupby('SleepDisorder').mean()"
   ]
  },
  {
   "cell_type": "markdown",
   "id": "21e85e60",
   "metadata": {},
   "source": [
    "## Target final"
   ]
  },
  {
   "cell_type": "code",
   "execution_count": null,
   "id": "c1ac8495",
   "metadata": {},
   "outputs": [],
   "source": [
    "data_with_target['I_SleepApnea'] = data_with_target.SleepDisorder.apply(\n",
    "    lambda x: 1 if x=='Sleep Apnea' else 0)\n",
    "data_with_target"
   ]
  },
  {
   "cell_type": "markdown",
   "id": "d3ac97b7",
   "metadata": {},
   "source": [
    "# Creación de Features"
   ]
  },
  {
   "cell_type": "code",
   "execution_count": null,
   "id": "378837f2",
   "metadata": {},
   "outputs": [],
   "source": [
    "from sklearn.compose import make_column_selector as selector\n",
    "\n",
    "data = data_with_target.drop(columns=[ 'PersonID', 'SleepDisorder'])\n",
    "categorical_columns_selector = selector(dtype_include=object)\n",
    "categorical_columns = categorical_columns_selector(data)\n",
    "data_categorical = data[categorical_columns]\n",
    "data_categorical"
   ]
  },
  {
   "cell_type": "code",
   "execution_count": null,
   "id": "2a1bcfd4",
   "metadata": {},
   "outputs": [],
   "source": [
    "from sklearn.preprocessing import OneHotEncoder\n",
    "\n",
    "if False:\n",
    "    for column in data_categorical.columns:\n",
    "        print(columns)\n",
    "encoder = OneHotEncoder(sparse=False, handle_unknown='ignore')\n",
    "\n",
    "# Step 4: Fit and transform the data\n",
    "encoded_data = encoder.fit_transform(data_categorical)\n",
    "\n",
    "# Step 5: Convert the transformed data into a DataFrame\n",
    "encoded_df = pd.DataFrame(encoded_data, columns=encoder.get_feature_names(data_categorical.columns))\n",
    "encoded_df"
   ]
  },
  {
   "cell_type": "markdown",
   "id": "ad6c81ee",
   "metadata": {},
   "source": [
    "# Entrenando modelos"
   ]
  },
  {
   "cell_type": "code",
   "execution_count": null,
   "id": "f0727a34",
   "metadata": {},
   "outputs": [],
   "source": [
    "X"
   ]
  },
  {
   "cell_type": "code",
   "execution_count": null,
   "id": "f78e4c4d",
   "metadata": {},
   "outputs": [],
   "source": [
    "data_with_target['DailySteps_K'] = round(data_with_target['DailySteps']/1000,3)\n",
    "data_with_target['SleepDuration_minutes'] = data_with_target['SleepDuration']*60\n",
    "data_with_target['QualityofSleep_100'] = data_with_target['QualityofSleep']*10\n",
    "data_with_target['StressLevel_100'] = data_with_target['StressLevel']*10\n",
    "X = data_with_target[\n",
    "    [x for x in data_with_target.columns if x not in [\n",
    "        'PersonID', 'SleepDisorder', 'I_SleepApnea',\n",
    "        'DailySteps', 'SleepDuration', 'QualityofSleep', 'StressLevel'\n",
    "    ] and x not in data_categorical.columns]\n",
    "]\n",
    "y = data_with_target['I_SleepApnea']\n",
    "\n",
    "#X = X[y != 2]\n",
    "#y = y[y != 2]\n",
    "\n",
    "#X /= X.max() \n",
    "\n",
    "X"
   ]
  },
  {
   "cell_type": "code",
   "execution_count": null,
   "id": "6838756c",
   "metadata": {},
   "outputs": [],
   "source": [
    "import numpy as np\n",
    "\n",
    "from sklearn import linear_model\n",
    "from sklearn.svm import l1_min_c\n",
    "\n",
    "cs = l1_min_c(X, y, loss=\"log\") * np.logspace(0, 10, 16)\n",
    "\n",
    "clf = linear_model.LogisticRegression(\n",
    "    penalty=\"l1\",\n",
    "    solver=\"liblinear\",\n",
    "    tol=1e-6,\n",
    "    max_iter=int(1e6),\n",
    "    warm_start=True,\n",
    "    intercept_scaling=10000.0,\n",
    ")\n",
    "coefs_ = []\n",
    "for c in cs:\n",
    "    clf.set_params(C=c)\n",
    "    clf.fit(X, y)\n",
    "    coefs_.append(clf.coef_.ravel().copy())\n",
    "\n",
    "coefs_ = np.array(coefs_)\n",
    "coefs_"
   ]
  },
  {
   "cell_type": "code",
   "execution_count": null,
   "id": "847a012e",
   "metadata": {},
   "outputs": [],
   "source": [
    "coefs_[-1]"
   ]
  },
  {
   "cell_type": "code",
   "execution_count": null,
   "id": "c5b8179b",
   "metadata": {},
   "outputs": [],
   "source": [
    "from sklearn.model_selection import train_test_split\n",
    "from sklearn.linear_model import LogisticRegression\n",
    "from sklearn.metrics import accuracy_score\n",
    "from sklearn.datasets import fetch_openml\n",
    "from sklearn.preprocessing import StandardScaler\n",
    "#from category_encoders import OneHotEncoder\n",
    "X_train, X_test, y_train, y_test = train_test_split(X, y, test_size=0.2, random_state=42)\n"
   ]
  },
  {
   "cell_type": "code",
   "execution_count": null,
   "id": "fb132d7c",
   "metadata": {},
   "outputs": [],
   "source": [
    "# Preprocess the data\n",
    "category_names = X_train.select_dtypes(include='category').columns\n",
    "numeric_names = X_train.select_dtypes(include='number').columns\n",
    "\n",
    "#ohe = OneHotEncoder(cols=category_names, use_cat_names=True)\n",
    "#X_train = ohe.fit_transform(X_train)\n",
    "#X_test = ohe.transform(X_test)\n",
    "\n",
    "#scaler = StandardScaler()\n",
    "#X_train.loc[:, numeric_names] = scaler.fit_transform(X_train.loc[:, numeric_names])\n",
    "#X_test.loc[:, numeric_names] = scaler.transform(X_test.loc[:, numeric_names])"
   ]
  },
  {
   "cell_type": "code",
   "execution_count": null,
   "id": "4af1d17b",
   "metadata": {},
   "outputs": [],
   "source": [
    "# Instantiate the logistic regression model\n",
    "log_reg = LogisticRegression()\n",
    "\n",
    "# Fit the model to the training data\n",
    "log_reg.fit(X_train, y_train)\n"
   ]
  },
  {
   "cell_type": "markdown",
   "id": "8b3390fa",
   "metadata": {},
   "source": [
    "# Métricas\n"
   ]
  },
  {
   "cell_type": "code",
   "execution_count": null,
   "id": "fb21e0f0",
   "metadata": {},
   "outputs": [],
   "source": [
    "# Predict the outcomes for the testing data\n",
    "y_pred = log_reg.predict(X_test)\n",
    "\n",
    "# Evaluate the model's performance\n",
    "accuracy = accuracy_score(y_test, y_pred)\n",
    "print(\"Accuracy:\", accuracy)"
   ]
  },
  {
   "cell_type": "markdown",
   "id": "319253e2",
   "metadata": {},
   "source": [
    "# Guardando el modelo ganador"
   ]
  },
  {
   "cell_type": "code",
   "execution_count": null,
   "id": "ed2a4f3b",
   "metadata": {},
   "outputs": [],
   "source": [
    "import pickle\n",
    "log_reg.fit(X_train, y_train)\n",
    "# save model to file\n",
    "pickle.dump(log_reg, open(\"model.pkl\", \"wb\"))"
   ]
  },
  {
   "cell_type": "code",
   "execution_count": null,
   "id": "702cf8e9",
   "metadata": {},
   "outputs": [],
   "source": []
  },
  {
   "cell_type": "code",
   "execution_count": null,
   "id": "a86da861",
   "metadata": {},
   "outputs": [],
   "source": []
  },
  {
   "cell_type": "code",
   "execution_count": null,
   "id": "c9142957",
   "metadata": {},
   "outputs": [],
   "source": []
  },
  {
   "cell_type": "code",
   "execution_count": null,
   "id": "99ed39e3",
   "metadata": {},
   "outputs": [],
   "source": [
    "import matplotlib.pyplot as plt\n",
    "import numpy as np\n",
    "\n",
    "from matplotlib.collections import EventCollection\n",
    "# plot the data\n",
    "fig = plt.figure(figsize=(2,2))\n",
    "ax = fig.add_subplot(1, 1, 1)\n",
    "\n",
    "for x in list_all_files:\n",
    "    print(x)\n",
    "    title_tmp = ' '.join(x.split('.csv')[0].split('_')).title()\n",
    "    print(title_tmp)\n",
    "    ax.set_title(title_tmp)\n",
    "    "
   ]
  }
 ],
 "metadata": {
  "kernelspec": {
   "display_name": "Python 3 (ipykernel)",
   "language": "python",
   "name": "python3"
  },
  "language_info": {
   "codemirror_mode": {
    "name": "ipython",
    "version": 3
   },
   "file_extension": ".py",
   "mimetype": "text/x-python",
   "name": "python",
   "nbconvert_exporter": "python",
   "pygments_lexer": "ipython3",
   "version": "3.7.0"
  }
 },
 "nbformat": 4,
 "nbformat_minor": 5
}
